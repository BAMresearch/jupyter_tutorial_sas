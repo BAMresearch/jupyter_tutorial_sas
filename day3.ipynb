{
 "cells": [
  {
   "cell_type": "markdown",
   "id": "f1b036f6-4aeb-4a04-8769-cbc881d7c818",
   "metadata": {},
   "source": [
    "<div style=\"text-align: right\">Dec 1<sup>th</sup> 2021</div>\n",
    "\n",
    "# Programming Tutorial, Day 3\n",
    "Part of the *Better With Scattering* Workshop by www.bam.de"
   ]
  },
  {
   "cell_type": "markdown",
   "id": "cb393c81-2e13-4e4b-b56e-a78a3f9c7520",
   "metadata": {},
   "source": [
    "## Load some data"
   ]
  },
  {
   "cell_type": "code",
   "execution_count": 2,
   "id": "d6683aa5-ba01-47b4-ac15-37f958a6f5df",
   "metadata": {},
   "outputs": [],
   "source": [
    "#!wget \"https://raw.githubusercontent.com/BAMresearch/jupyter_tutorial_sas/main/data/Ag_N008.dat\""
   ]
  },
  {
   "cell_type": "code",
   "execution_count": null,
   "id": "9800a547-8621-4b0d-b7b5-a78112cda9ac",
   "metadata": {},
   "outputs": [],
   "source": []
  }
 ],
 "metadata": {
  "kernelspec": {
   "display_name": "Python 3 (ipykernel)",
   "language": "python",
   "name": "python3"
  },
  "language_info": {
   "codemirror_mode": {
    "name": "ipython",
    "version": 3
   },
   "file_extension": ".py",
   "mimetype": "text/x-python",
   "name": "python",
   "nbconvert_exporter": "python",
   "pygments_lexer": "ipython3",
   "version": "3.9.7"
  }
 },
 "nbformat": 4,
 "nbformat_minor": 5
}
