{
  "nbformat": 4,
  "nbformat_minor": 0,
  "metadata": {
    "colab": {
      "name": "Untitled1.ipynb",
      "provenance": [],
      "collapsed_sections": []
    },
    "kernelspec": {
      "name": "python3",
      "display_name": "Python 3"
    },
    "language_info": {
      "name": "python"
    }
  },
  "cells": [
    {
      "cell_type": "code",
      "metadata": {
        "colab": {
          "base_uri": "https://localhost:8080/"
        },
        "id": "dX7zfEI0VKYp",
        "outputId": "cd3ce40b-3948-49d1-c8bb-4723a8788b7b"
      },
      "source": [
        "print(\"hello world\", 23, 4.5, 4e12)\n",
        "print(\"something else\")"
      ],
      "execution_count": 4,
      "outputs": [
        {
          "output_type": "stream",
          "name": "stdout",
          "text": [
            "hello world 23 4.5 4000000000000.0\n",
            "something else\n"
          ]
        }
      ]
    },
    {
      "cell_type": "markdown",
      "metadata": {
        "id": "qzJaS0rVV5Yc"
      },
      "source": [
        "# Programming Tutorial, Day 1\n",
        "Part of the *Better With Scattering* Workshop by www.bam.de\n",
        "\n",
        "equation: $\\phi = \\sqrt{1 \\over 9}$"
      ]
    },
    {
      "cell_type": "code",
      "metadata": {
        "colab": {
          "base_uri": "https://localhost:8080/"
        },
        "id": "-1tAYjUHV-CG",
        "outputId": "e0c3e412-ad67-4cec-bc37-1e912477a529"
      },
      "source": [
        "type(\"hello\"), \"hello\".upper()"
      ],
      "execution_count": 6,
      "outputs": [
        {
          "output_type": "execute_result",
          "data": {
            "text/plain": [
              "(str, 'HELLO')"
            ]
          },
          "metadata": {},
          "execution_count": 6
        }
      ]
    },
    {
      "cell_type": "code",
      "metadata": {
        "colab": {
          "base_uri": "https://localhost:8080/"
        },
        "id": "IDgSk0laWzq0",
        "outputId": "b0fc15d8-dcad-4128-bae9-c975a7bbe25b"
      },
      "source": [
        "3+4"
      ],
      "execution_count": 7,
      "outputs": [
        {
          "output_type": "execute_result",
          "data": {
            "text/plain": [
              "7"
            ]
          },
          "metadata": {},
          "execution_count": 7
        }
      ]
    },
    {
      "cell_type": "code",
      "metadata": {
        "colab": {
          "base_uri": "https://localhost:8080/"
        },
        "id": "6K8A6GnpXSUr",
        "outputId": "bded26e2-a7da-459c-8332-22a0c7e5d147"
      },
      "source": [
        "print(3**4)\n",
        "3+4*5"
      ],
      "execution_count": 10,
      "outputs": [
        {
          "output_type": "stream",
          "name": "stdout",
          "text": [
            "81\n"
          ]
        },
        {
          "output_type": "execute_result",
          "data": {
            "text/plain": [
              "23"
            ]
          },
          "metadata": {},
          "execution_count": 10
        }
      ]
    },
    {
      "cell_type": "code",
      "metadata": {
        "colab": {
          "base_uri": "https://localhost:8080/"
        },
        "id": "rzsIdD1TXYOO",
        "outputId": "a5838609-7cab-479b-c2c0-900495285314"
      },
      "source": [
        "import math\n",
        "math.sqrt(81)"
      ],
      "execution_count": 11,
      "outputs": [
        {
          "output_type": "execute_result",
          "data": {
            "text/plain": [
              "9.0"
            ]
          },
          "metadata": {},
          "execution_count": 11
        }
      ]
    },
    {
      "cell_type": "code",
      "metadata": {
        "colab": {
          "base_uri": "https://localhost:8080/"
        },
        "id": "7tP9z73VX6h7",
        "outputId": "5cae7b11-7727-4ffa-e51a-a97b422a9cf3"
      },
      "source": [
        "import numpy\n",
        "numpy.sqrt(81)"
      ],
      "execution_count": 14,
      "outputs": [
        {
          "output_type": "execute_result",
          "data": {
            "text/plain": [
              "9.0"
            ]
          },
          "metadata": {},
          "execution_count": 14
        }
      ]
    },
    {
      "cell_type": "markdown",
      "metadata": {
        "id": "12gYgn8sYsp4"
      },
      "source": [
        "## Lists and Arrays"
      ]
    },
    {
      "cell_type": "code",
      "metadata": {
        "colab": {
          "base_uri": "https://localhost:8080/"
        },
        "id": "862z6pjJYUzn",
        "outputId": "8409a10f-4562-4706-abab-dede68483045"
      },
      "source": [
        "alist = [2, 3, 34, \"world\", 4.5]\n",
        "alist"
      ],
      "execution_count": 16,
      "outputs": [
        {
          "output_type": "execute_result",
          "data": {
            "text/plain": [
              "[2, 3, 34, 'world', 4.5]"
            ]
          },
          "metadata": {},
          "execution_count": 16
        }
      ]
    },
    {
      "cell_type": "code",
      "metadata": {
        "colab": {
          "base_uri": "https://localhost:8080/"
        },
        "id": "6w0raSmDZirX",
        "outputId": "771d9e77-d6df-40a5-a423-e42ab304eb4b"
      },
      "source": [
        "alist[1]"
      ],
      "execution_count": 19,
      "outputs": [
        {
          "output_type": "execute_result",
          "data": {
            "text/plain": [
              "3"
            ]
          },
          "metadata": {},
          "execution_count": 19
        }
      ]
    },
    {
      "cell_type": "code",
      "metadata": {
        "colab": {
          "base_uri": "https://localhost:8080/"
        },
        "id": "8V9n3e-LZs2g",
        "outputId": "3f7af6eb-233a-4d6c-ce1f-668f83b4b9b8"
      },
      "source": [
        "alist[1] = 7\n",
        "alist"
      ],
      "execution_count": 21,
      "outputs": [
        {
          "output_type": "execute_result",
          "data": {
            "text/plain": [
              "[2, 7, 34, 'world', 4.5]"
            ]
          },
          "metadata": {},
          "execution_count": 21
        }
      ]
    },
    {
      "cell_type": "code",
      "metadata": {
        "colab": {
          "base_uri": "https://localhost:8080/"
        },
        "id": "F67Izg3NZHsW",
        "outputId": "4a2783d6-4869-4e67-a345-9c145430d966"
      },
      "source": [
        "atuple = (2, 3, 34, \"world\", 4.5)\n",
        "atuple"
      ],
      "execution_count": 18,
      "outputs": [
        {
          "output_type": "execute_result",
          "data": {
            "text/plain": [
              "(2, 3, 34, 'world', 4.5)"
            ]
          },
          "metadata": {},
          "execution_count": 18
        }
      ]
    },
    {
      "cell_type": "code",
      "metadata": {
        "colab": {
          "base_uri": "https://localhost:8080/"
        },
        "id": "5KzltLjwZxsP",
        "outputId": "047b9108-966b-47e1-dd85-7b0b6d896c95"
      },
      "source": [
        "atuple[1]"
      ],
      "execution_count": 23,
      "outputs": [
        {
          "output_type": "execute_result",
          "data": {
            "text/plain": [
              "3"
            ]
          },
          "metadata": {},
          "execution_count": 23
        }
      ]
    },
    {
      "cell_type": "code",
      "metadata": {
        "colab": {
          "base_uri": "https://localhost:8080/",
          "height": 207
        },
        "id": "fOUonJQdZdZH",
        "outputId": "80f20237-7e31-4af6-b0d0-7fa8e76b9d80"
      },
      "source": [
        "arr1 = numpy.array(alist)\n",
        "arr1, arr1 + 2"
      ],
      "execution_count": 26,
      "outputs": [
        {
          "output_type": "error",
          "ename": "UFuncTypeError",
          "evalue": "ignored",
          "traceback": [
            "\u001b[0;31m---------------------------------------------------------------------------\u001b[0m",
            "\u001b[0;31mUFuncTypeError\u001b[0m                            Traceback (most recent call last)",
            "\u001b[0;32m<ipython-input-26-dc195962c91e>\u001b[0m in \u001b[0;36m<module>\u001b[0;34m()\u001b[0m\n\u001b[1;32m      1\u001b[0m \u001b[0marr1\u001b[0m \u001b[0;34m=\u001b[0m \u001b[0mnumpy\u001b[0m\u001b[0;34m.\u001b[0m\u001b[0marray\u001b[0m\u001b[0;34m(\u001b[0m\u001b[0malist\u001b[0m\u001b[0;34m)\u001b[0m\u001b[0;34m\u001b[0m\u001b[0;34m\u001b[0m\u001b[0m\n\u001b[0;32m----> 2\u001b[0;31m \u001b[0marr1\u001b[0m\u001b[0;34m,\u001b[0m \u001b[0marr1\u001b[0m \u001b[0;34m+\u001b[0m \u001b[0;36m2\u001b[0m\u001b[0;34m\u001b[0m\u001b[0;34m\u001b[0m\u001b[0m\n\u001b[0m",
            "\u001b[0;31mUFuncTypeError\u001b[0m: ufunc 'add' did not contain a loop with signature matching types (dtype('<U21'), dtype('<U21')) -> dtype('<U21')"
          ]
        }
      ]
    },
    {
      "cell_type": "code",
      "metadata": {
        "colab": {
          "base_uri": "https://localhost:8080/"
        },
        "id": "V1GZBThRaTWq",
        "outputId": "56a16d73-39a8-4782-de58-a4a363fbd876"
      },
      "source": [
        "arr1 = numpy.array([1, 2, 4.5, 7])\n",
        "arr1, arr1 + 2"
      ],
      "execution_count": 27,
      "outputs": [
        {
          "output_type": "execute_result",
          "data": {
            "text/plain": [
              "(array([1. , 2. , 4.5, 7. ]), array([3. , 4. , 6.5, 9. ]))"
            ]
          },
          "metadata": {},
          "execution_count": 27
        }
      ]
    },
    {
      "cell_type": "markdown",
      "metadata": {
        "id": "Viv6BRL9aq75"
      },
      "source": [
        "## Dictionary (*dict*)"
      ]
    },
    {
      "cell_type": "code",
      "metadata": {
        "colab": {
          "base_uri": "https://localhost:8080/"
        },
        "id": "Af7AjpJ_aWzd",
        "outputId": "4dd96c18-86fe-4880-e507-da5e4286f0cb"
      },
      "source": [
        "d = {\"first\": 3, \"second\": 3.14, 23: 42}\n",
        "print(d[\"second\"])\n",
        "d"
      ],
      "execution_count": 30,
      "outputs": [
        {
          "output_type": "stream",
          "name": "stdout",
          "text": [
            "3.14\n"
          ]
        },
        {
          "output_type": "execute_result",
          "data": {
            "text/plain": [
              "{23: 42, 'first': 3, 'second': 3.14}"
            ]
          },
          "metadata": {},
          "execution_count": 30
        }
      ]
    },
    {
      "cell_type": "markdown",
      "metadata": {
        "id": "ORwVq768dAij"
      },
      "source": [
        "## Plotting"
      ]
    },
    {
      "cell_type": "code",
      "metadata": {
        "colab": {
          "base_uri": "https://localhost:8080/",
          "height": 265
        },
        "id": "lEFTITSCdB0Z",
        "outputId": "745ee525-3fd4-461e-8847-bb81e332ef03"
      },
      "source": [
        "import matplotlib.pyplot as plt\n",
        "plt.plot([1,2,3], [6, 4, 8], marker='o', color='red')\n",
        "plt.grid()"
      ],
      "execution_count": 34,
      "outputs": [
        {
          "output_type": "display_data",
          "data": {
            "image/png": "[encoded data removed]",
            "text/plain": [
              "<Figure size 432x288 with 1 Axes>"
            ]
          },
          "metadata": {
            "needs_background": "light"
          }
        }
      ]
    },
    {
      "cell_type": "code",
      "metadata": {
        "colab": {
          "base_uri": "https://localhost:8080/"
        },
        "id": "ZoG7kE0ad_Uc",
        "outputId": "4b5a6fc7-3b09-4f1f-d92d-a60f4ff33338"
      },
      "source": [
        "xpos = numpy.arange(1,10)\n",
        "ypos = numpy.linspace(4, 9, 9)\n",
        "xpos, ypos"
      ],
      "execution_count": 37,
      "outputs": [
        {
          "output_type": "execute_result",
          "data": {
            "text/plain": [
              "(array([1, 2, 3, 4, 5, 6, 7, 8, 9]),\n",
              " array([4.   , 4.625, 5.25 , 5.875, 6.5  , 7.125, 7.75 , 8.375, 9.   ]))"
            ]
          },
          "metadata": {},
          "execution_count": 37
        }
      ]
    },
    {
      "cell_type": "code",
      "metadata": {
        "colab": {
          "base_uri": "https://localhost:8080/",
          "height": 283
        },
        "id": "l3uw8QWpejxk",
        "outputId": "024c0eab-8b9a-4ac1-e4a6-75c605cddf01"
      },
      "source": [
        "plt.plot(xpos, ypos, 'ro-', label=\"test data\")\n",
        "plt.plot([1,2,3], [6, 4, 8], label=\"fst plot\")\n",
        "plt.xlabel(\"x axis $\\phi$\")\n",
        "plt.ylabel(\"on y it is $\\psi$\")\n",
        "plt.legend(); plt.grid()"
      ],
      "execution_count": 49,
      "outputs": [
        {
          "output_type": "display_data",
          "data": {
            "image/png": "[encoded data removed]",
            "text/plain": [
              "<Figure size 432x288 with 1 Axes>"
            ]
          },
          "metadata": {
            "needs_background": "light"
          }
        }
      ]
    },
    {
      "cell_type": "markdown",
      "metadata": {
        "id": "5ShfWeuLgFi2"
      },
      "source": [
        "## Functions"
      ]
    },
    {
      "cell_type": "code",
      "metadata": {
        "colab": {
          "base_uri": "https://localhost:8080/"
        },
        "id": "vjxNk0wBgHg0",
        "outputId": "927cbe78-036c-4462-8a2f-2965b4ad9721"
      },
      "source": [
        "def calcSquare(x):\n",
        "  return x**2\n",
        "a = calcSquare(41)\n",
        "xpos"
      ],
      "execution_count": 58,
      "outputs": [
        {
          "output_type": "execute_result",
          "data": {
            "text/plain": [
              "array([1, 2, 3, 4, 5, 6, 7, 8, 9])"
            ]
          },
          "metadata": {},
          "execution_count": 58
        }
      ]
    },
    {
      "cell_type": "code",
      "metadata": {
        "colab": {
          "base_uri": "https://localhost:8080/"
        },
        "id": "BCiYwMlzgt-_",
        "outputId": "0f0ed291-4eb1-452d-a4a6-ec42c0277b4b"
      },
      "source": [
        "calcSquare(xpos)"
      ],
      "execution_count": 59,
      "outputs": [
        {
          "output_type": "execute_result",
          "data": {
            "text/plain": [
              "array([ 1,  4,  9, 16, 25, 36, 49, 64, 81])"
            ]
          },
          "metadata": {},
          "execution_count": 59
        }
      ]
    },
    {
      "cell_type": "code",
      "metadata": {
        "colab": {
          "base_uri": "https://localhost:8080/",
          "height": 265
        },
        "id": "TTJJA__ohYov",
        "outputId": "206a3d3f-30b4-47d6-9c47-7f964faa0705"
      },
      "source": [
        "plt.plot(xpos, calcSquare(xpos))\n",
        "plt.grid();"
      ],
      "execution_count": 62,
      "outputs": [
        {
          "output_type": "display_data",
          "data": {
            "image/png": "[encoded data removed]",
            "text/plain": [
              "<Figure size 432x288 with 1 Axes>"
            ]
          },
          "metadata": {
            "needs_background": "light"
          }
        }
      ]
    },
    {
      "cell_type": "code",
      "metadata": {
        "id": "NfxGvQKEhipX"
      },
      "source": [
        ""
      ],
      "execution_count": null,
      "outputs": []
    }
  ]
}