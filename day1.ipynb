{
 "cells": [
  {
   "cell_type": "markdown",
   "id": "12e79721-1edd-4038-8fc7-d5646659b41a",
   "metadata": {},
   "source": [
    "<div style=\"text-align: right\">Nov 29<sup>th</sup> 2021</div>\n",
    "\n",
    "# Programming Tutorial, Day 1\n",
    "Part of the *Better With Scattering* Workshop by www.bam.de"
   ]
  },
  {
   "cell_type": "markdown",
   "id": "f87ed919-4645-4191-995d-c2bd8c23e69c",
   "metadata": {},
   "source": [
    "### Overview\n",
    "  - Working with Jupyter Notebooks\n",
    "  - Quick Intro to Python:\n",
    "    - Data Structures\n",
    "    - Plotting\n",
    "    - Functions\n",
    "    - Files and Folders"
   ]
  },
  {
   "cell_type": "markdown",
   "id": "4ecf4803-d5f8-4977-9141-9ce2b5910564",
   "metadata": {},
   "source": [
    "## Hello world"
   ]
  },
  {
   "cell_type": "code",
   "execution_count": 6,
   "id": "8aa232df-2fef-46ce-bdf9-40aaa8eeacbb",
   "metadata": {},
   "outputs": [
    {
     "name": "stdout",
     "output_type": "stream",
     "text": [
      "hello world 42 3.14 21000.0\n"
     ]
    }
   ],
   "source": [
    "print(\"hello world\", 42, 3.14, 2.1e4)"
   ]
  },
  {
   "cell_type": "code",
   "execution_count": 9,
   "id": "04053b7d-73f4-4e12-8491-f28780e2121f",
   "metadata": {},
   "outputs": [
    {
     "data": {
      "text/plain": [
       "(str, int, float)"
      ]
     },
     "execution_count": 9,
     "metadata": {},
     "output_type": "execute_result"
    }
   ],
   "source": [
    "type(\"hello world\"), type(42), type(3.14)"
   ]
  },
  {
   "cell_type": "markdown",
   "id": "020b5f9b-ecc8-47f8-aa42-969e018ee5d1",
   "metadata": {
    "jp-MarkdownHeadingCollapsed": true,
    "tags": []
   },
   "source": [
    "## Concept of Notebooks\n",
    "### Compare to traditional code file & interpreter"
   ]
  },
  {
   "cell_type": "markdown",
   "id": "be68de4c-5657-4875-8d19-da8f0a3b61f5",
   "metadata": {
    "tags": []
   },
   "source": [
    "# Heading, top level\n",
    "## sub heading\n",
    "### 3rd level heading\n",
    "Hello documentation\n",
    "\n",
    "- list entry 1\n",
    "- list entry 2\n",
    "\n",
    "## Example equation: $\\phi = \\theta^2$\n",
    "**strong text:** $a = 3^4$"
   ]
  },
  {
   "cell_type": "markdown",
   "id": "c8d5b38f-97bd-464c-91f2-48af06205628",
   "metadata": {},
   "source": [
    "## Calculating something (actual programming)"
   ]
  },
  {
   "cell_type": "code",
   "execution_count": 13,
   "id": "f435021b-efa8-42d1-90fe-efa923ea0b2d",
   "metadata": {},
   "outputs": [
    {
     "data": {
      "text/plain": [
       "7"
      ]
     },
     "execution_count": 13,
     "metadata": {},
     "output_type": "execute_result"
    }
   ],
   "source": [
    "3+4"
   ]
  },
  {
   "cell_type": "code",
   "execution_count": 14,
   "id": "16624db9-5689-4e43-9873-6cf870593645",
   "metadata": {},
   "outputs": [
    {
     "data": {
      "text/plain": [
       "81"
      ]
     },
     "execution_count": 14,
     "metadata": {},
     "output_type": "execute_result"
    }
   ],
   "source": [
    "3**4"
   ]
  },
  {
   "cell_type": "code",
   "execution_count": 3,
   "id": "9c589850-8a91-407a-99d9-ff75a57f166f",
   "metadata": {},
   "outputs": [
    {
     "data": {
      "text/plain": [
       "-5.0"
      ]
     },
     "execution_count": 3,
     "metadata": {},
     "output_type": "execute_result"
    }
   ],
   "source": [
    "2+3-4*5/2 # priorities of operations from math apply here, +- before */"
   ]
  },
  {
   "cell_type": "code",
   "execution_count": 15,
   "id": "17cc421a-5e2b-4e15-835f-9195fb91ee06",
   "metadata": {},
   "outputs": [
    {
     "data": {
      "text/plain": [
       "3807"
      ]
     },
     "execution_count": 15,
     "metadata": {},
     "output_type": "execute_result"
    }
   ],
   "source": [
    "a = 3**4\n",
    "a*(3+4*(5+6))"
   ]
  },
  {
   "cell_type": "code",
   "execution_count": 17,
   "id": "7c17adcc-d8ad-48f6-b240-633c5207da50",
   "metadata": {},
   "outputs": [
    {
     "name": "stdout",
     "output_type": "stream",
     "text": [
      "a is: 81\n"
     ]
    }
   ],
   "source": [
    "print(\"a is:\", a)"
   ]
  },
  {
   "cell_type": "markdown",
   "id": "9e7b7574-85dd-4392-bfce-15ede9f92511",
   "metadata": {},
   "source": [
    "### Math builtin"
   ]
  },
  {
   "cell_type": "code",
   "execution_count": 4,
   "id": "d0fb9787-8e6b-4e94-a6c9-7e091a525fb7",
   "metadata": {},
   "outputs": [
    {
     "data": {
      "text/plain": [
       "9.0"
      ]
     },
     "execution_count": 4,
     "metadata": {},
     "output_type": "execute_result"
    }
   ],
   "source": [
    "import math\n",
    "math.sqrt(81)"
   ]
  },
  {
   "cell_type": "markdown",
   "id": "03e254b0-329b-4343-a9ef-524bf0651e6c",
   "metadata": {},
   "source": [
    "### Math with numpy (external module)"
   ]
  },
  {
   "cell_type": "code",
   "execution_count": 5,
   "id": "5d2ab93d-01da-4d33-b656-de7856b89f25",
   "metadata": {},
   "outputs": [
    {
     "data": {
      "text/plain": [
       "7.0"
      ]
     },
     "execution_count": 5,
     "metadata": {},
     "output_type": "execute_result"
    }
   ],
   "source": [
    "import numpy\n",
    "numpy.sqrt(49)"
   ]
  },
  {
   "cell_type": "markdown",
   "id": "6bd0c8ed-a8ca-4a93-ad60-bbac9f006f0c",
   "metadata": {},
   "source": [
    "## Lists and Arrays"
   ]
  },
  {
   "cell_type": "code",
   "execution_count": 6,
   "id": "9a4efffc-3e63-447d-9717-2cc8d028aa62",
   "metadata": {},
   "outputs": [
    {
     "data": {
      "text/plain": [
       "[1, 2, 3, 4]"
      ]
     },
     "execution_count": 6,
     "metadata": {},
     "output_type": "execute_result"
    }
   ],
   "source": [
    "# a list\n",
    "a = [1, 2, 3, 4,]\n",
    "a"
   ]
  },
  {
   "cell_type": "code",
   "execution_count": 7,
   "id": "62cdc516-7298-477c-a9da-a584099fca19",
   "metadata": {},
   "outputs": [
    {
     "data": {
      "text/plain": [
       "array([1, 2, 3, 4])"
      ]
     },
     "execution_count": 7,
     "metadata": {},
     "output_type": "execute_result"
    }
   ],
   "source": [
    "# an array\n",
    "b = numpy.array(a)\n",
    "b"
   ]
  },
  {
   "cell_type": "code",
   "execution_count": 8,
   "id": "f7320551-b6f5-4ac0-bb50-86b735bf3de5",
   "metadata": {},
   "outputs": [],
   "source": [
    "c = numpy.array([7, 5, 8, 6])"
   ]
  },
  {
   "cell_type": "markdown",
   "id": "29f10de5-50c7-43ed-b61c-b869d4ffb998",
   "metadata": {},
   "source": [
    "## Dictionary (aka. associative array)"
   ]
  },
  {
   "cell_type": "code",
   "execution_count": 4,
   "id": "977dbeea-c28f-4353-ab14-fdae7434c084",
   "metadata": {},
   "outputs": [
    {
     "name": "stdout",
     "output_type": "stream",
     "text": [
      "not a number\n"
     ]
    },
    {
     "data": {
      "text/plain": [
       "{'a number': 42, 'another entry': 'not a number', 13: 4.5}"
      ]
     },
     "execution_count": 4,
     "metadata": {},
     "output_type": "execute_result"
    }
   ],
   "source": [
    "d = {\"a number\": 42, \"another entry\": \"not a number\", 13: 4.5}\n",
    "print(d[\"another entry\"])\n",
    "d"
   ]
  },
  {
   "cell_type": "markdown",
   "id": "8c4257c7-3adb-48d5-9cea-8d467aa055a0",
   "metadata": {},
   "source": [
    "## Plotting"
   ]
  },
  {
   "cell_type": "code",
   "execution_count": 9,
   "id": "78255aeb-f8e9-4815-801d-cbef7c5c41d5",
   "metadata": {},
   "outputs": [
    {
     "data": {
      "image/png": "[encoded data removed]",
      "text/plain": [
       "<Figure size 432x288 with 1 Axes>"
      ]
     },
     "metadata": {
      "needs_background": "light"
     },
     "output_type": "display_data"
    }
   ],
   "source": [
    "import matplotlib.pyplot as plt\n",
    "plt.plot(a, c,\n",
    "         color='green', marker='o')\n",
    "plt.grid()"
   ]
  },
  {
   "cell_type": "markdown",
   "id": "0774d03e-ba14-4b96-917f-7501ffeb7c2a",
   "metadata": {},
   "source": [
    "## Functions!"
   ]
  },
  {
   "cell_type": "code",
   "execution_count": 10,
   "id": "6d66ea91-06dc-4758-b11b-53dce36531bb",
   "metadata": {},
   "outputs": [],
   "source": [
    "def calcSquare(x):\n",
    "    return x**2"
   ]
  },
  {
   "cell_type": "code",
   "execution_count": 11,
   "id": "cb29a658-1c31-4456-a5e4-b9e6af190431",
   "metadata": {},
   "outputs": [
    {
     "data": {
      "text/plain": [
       "array([49, 25, 64, 36])"
      ]
     },
     "execution_count": 11,
     "metadata": {},
     "output_type": "execute_result"
    }
   ],
   "source": [
    "calcSquare(c)"
   ]
  },
  {
   "cell_type": "code",
   "execution_count": 12,
   "id": "0bd75b1b-ead3-4402-93e2-d9945600722b",
   "metadata": {},
   "outputs": [
    {
     "data": {
      "text/plain": [
       "Text(0, 0.5, 'y axis')"
      ]
     },
     "execution_count": 12,
     "metadata": {},
     "output_type": "execute_result"
    },
    {
     "data": {
      "image/png": "[encoded data removed]",
      "text/plain": [
       "<Figure size 432x288 with 1 Axes>"
      ]
     },
     "metadata": {
      "needs_background": "light"
     },
     "output_type": "display_data"
    }
   ],
   "source": [
    "plt.plot(a, calcSquare(c),\n",
    "         color='blue', marker='x', linestyle='dashed')\n",
    "plt.xlabel(\"x axis\")\n",
    "plt.ylabel(\"y axis\")"
   ]
  },
  {
   "cell_type": "code",
   "execution_count": null,
   "id": "a7e38516-f093-4bdc-b539-42b8b92ffe0c",
   "metadata": {},
   "outputs": [],
   "source": []
  }
 ],
 "metadata": {
  "kernelspec": {
   "display_name": "Python 3 (ipykernel)",
   "language": "python",
   "name": "python3"
  },
  "language_info": {
   "codemirror_mode": {
    "name": "ipython",
    "version": 3
   },
   "file_extension": ".py",
   "mimetype": "text/x-python",
   "name": "python",
   "nbconvert_exporter": "python",
   "pygments_lexer": "ipython3",
   "version": "3.9.7"
  }
 },
 "nbformat": 4,
 "nbformat_minor": 5
}
