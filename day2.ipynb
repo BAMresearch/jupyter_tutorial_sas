{
 "cells": [
  {
   "cell_type": "markdown",
   "id": "841a6496-ce51-41df-9234-00ebe6d632a5",
   "metadata": {},
   "source": [
    "<div style=\"text-align: right\">Nov 30<sup>th</sup> 2021</div>\n",
    "\n",
    "# Programming Tutorial, Day 2\n",
    "Part of the *Better With Scattering* Workshop by www.bam.de\n",
    "## Calculating and plotting a scattering model"
   ]
  },
  {
   "cell_type": "code",
   "execution_count": 1,
   "id": "55885d01-5bfe-4095-b35b-fbb91c3c1a83",
   "metadata": {},
   "outputs": [
    {
     "ename": "NameError",
     "evalue": "name 'scattering_vector_q' is not defined",
     "output_type": "error",
     "traceback": [
      "\u001b[0;31m---------------------------------------------------------------------------\u001b[0m",
      "\u001b[0;31mNameError\u001b[0m                                 Traceback (most recent call last)",
      "\u001b[0;32m/var/folders/px/v744l1n169l1p53jb__1mx880000gn/T/ipykernel_98647/3127263314.py\u001b[0m in \u001b[0;36m<module>\u001b[0;34m\u001b[0m\n\u001b[1;32m      1\u001b[0m \u001b[0;32mimport\u001b[0m \u001b[0mnumpy\u001b[0m\u001b[0;34m\u001b[0m\u001b[0;34m\u001b[0m\u001b[0m\n\u001b[1;32m      2\u001b[0m \u001b[0mtheta\u001b[0m \u001b[0;34m=\u001b[0m \u001b[0mnumpy\u001b[0m\u001b[0;34m.\u001b[0m\u001b[0marray\u001b[0m\u001b[0;34m(\u001b[0m\u001b[0;34m[\u001b[0m\u001b[0;36m17\u001b[0m\u001b[0;34m,\u001b[0m \u001b[0;36m41\u001b[0m\u001b[0;34m,\u001b[0m \u001b[0;36m43\u001b[0m\u001b[0;34m,\u001b[0m \u001b[0;36m56\u001b[0m\u001b[0;34m,\u001b[0m \u001b[0;36m67\u001b[0m\u001b[0;34m,\u001b[0m \u001b[0;36m73\u001b[0m\u001b[0;34m,\u001b[0m \u001b[0;36m75\u001b[0m\u001b[0;34m,\u001b[0m \u001b[0;36m78\u001b[0m\u001b[0;34m,\u001b[0m \u001b[0;36m82\u001b[0m\u001b[0;34m,\u001b[0m \u001b[0;36m112\u001b[0m\u001b[0;34m,\u001b[0m \u001b[0;36m112\u001b[0m\u001b[0;34m,\u001b[0m \u001b[0;36m122\u001b[0m\u001b[0;34m,\u001b[0m \u001b[0;36m141\u001b[0m\u001b[0;34m,\u001b[0m \u001b[0;36m164\u001b[0m\u001b[0;34m,\u001b[0m \u001b[0;36m171\u001b[0m\u001b[0;34m,\u001b[0m \u001b[0;36m173\u001b[0m\u001b[0;34m]\u001b[0m\u001b[0;34m)\u001b[0m\u001b[0;34m\u001b[0m\u001b[0;34m\u001b[0m\u001b[0m\n\u001b[0;32m----> 3\u001b[0;31m \u001b[0mq\u001b[0m \u001b[0;34m=\u001b[0m \u001b[0mscattering_vector_q\u001b[0m\u001b[0;34m(\u001b[0m\u001b[0mtheta\u001b[0m\u001b[0;34m)\u001b[0m\u001b[0;34m\u001b[0m\u001b[0;34m\u001b[0m\u001b[0m\n\u001b[0m\u001b[1;32m      4\u001b[0m \u001b[0mprint\u001b[0m\u001b[0;34m(\u001b[0m\u001b[0;34m\"angles:\\n\"\u001b[0m\u001b[0;34m,\u001b[0m \u001b[0mtheta\u001b[0m\u001b[0;34m)\u001b[0m\u001b[0;34m\u001b[0m\u001b[0;34m\u001b[0m\u001b[0m\n\u001b[1;32m      5\u001b[0m \u001b[0mprint\u001b[0m\u001b[0;34m(\u001b[0m\u001b[0;34m\"scattering vector:\\n\"\u001b[0m\u001b[0;34m,\u001b[0m \u001b[0mq\u001b[0m\u001b[0;34m)\u001b[0m\u001b[0;34m\u001b[0m\u001b[0;34m\u001b[0m\u001b[0m\n",
      "\u001b[0;31mNameError\u001b[0m: name 'scattering_vector_q' is not defined"
     ]
    }
   ],
   "source": [
    "import numpy\n",
    "theta = numpy.array([17, 41, 43, 56, 67, 73, 75, 78, 82, 112, 112, 122, 141, 164, 171, 173])\n",
    "q = scattering_vector_q(theta)\n",
    "print(\"angles:\\n\", theta)\n",
    "print(\"scattering vector:\\n\", q)"
   ]
  },
  {
   "cell_type": "markdown",
   "id": "c9fce213-914f-499a-852f-6ec46598ae7c",
   "metadata": {
    "tags": []
   },
   "source": [
    "## A linear range of angles\n",
    "\n",
    "Use numpy to generate an array of 500 angles between 0.01 and 5 degrees.  \n",
    "Helpful links (with examples at the end):  \n",
    "https://docs.scipy.org/doc/numpy/reference/generated/numpy.arange.html  \n",
    "https://docs.scipy.org/doc/numpy/reference/generated/numpy.linspace.html  \n",
    "*Hint checking the result: The size of an array (number of values) is provided by its **.shape** attribute. It contains how many values are store in each dimension.*"
   ]
  },
  {
   "cell_type": "code",
   "execution_count": 2,
   "id": "e8ff05b9-3b3a-489d-9de3-c5af3954920d",
   "metadata": {},
   "outputs": [
    {
     "data": {
      "text/plain": [
       "array([1.00000000e-02, 3.69281437e-01, 7.28562874e-01, 1.08784431e+00,\n",
       "       1.44712575e+00, 1.80640719e+00, 2.16568862e+00, 2.52497006e+00,\n",
       "       2.88425150e+00, 3.24353293e+00, ..., 1.76417186e+02,\n",
       "       1.76776467e+02, 1.77135749e+02, 1.77495030e+02, 1.77854311e+02,\n",
       "       1.78213593e+02, 1.78572874e+02, 1.78932156e+02, 1.79291437e+02,\n",
       "       1.79650719e+02])"
      ]
     },
     "execution_count": 2,
     "metadata": {},
     "output_type": "execute_result"
    }
   ],
   "source": [
    "import numpy\n",
    "theta = numpy.arange(1e-2, 180, 180/501)\n",
    "numpy.set_printoptions(threshold=100, edgeitems=10) # default\n",
    "theta#, theta.shape"
   ]
  },
  {
   "cell_type": "code",
   "execution_count": 3,
   "id": "e61fe980-232a-4e99-b6c4-93c9f38f3750",
   "metadata": {},
   "outputs": [
    {
     "data": {
      "text/plain": [
       "array([1.00000000e-02, 3.70701403e-01, 7.31402806e-01, 1.09210421e+00,\n",
       "       1.45280561e+00, 1.81350701e+00, 2.17420842e+00, 2.53490982e+00,\n",
       "       2.89561122e+00, 3.25631263e+00, ..., 1.76753687e+02,\n",
       "       1.77114389e+02, 1.77475090e+02, 1.77835792e+02, 1.78196493e+02,\n",
       "       1.78557194e+02, 1.78917896e+02, 1.79278597e+02, 1.79639299e+02,\n",
       "       1.80000000e+02])"
      ]
     },
     "execution_count": 3,
     "metadata": {},
     "output_type": "execute_result"
    }
   ],
   "source": [
    "theta = numpy.linspace(1e-2, 180, 500)\n",
    "theta#, theta.shape"
   ]
  },
  {
   "cell_type": "markdown",
   "id": "1858fbaa-881e-4f73-9ac9-a411d25f4701",
   "metadata": {},
   "source": [
    "## A logarithmic range of angles\n",
    "\n",
    "Try also logarithmic spacing. Works best with logarithmic axes in plotting later:  \n",
    "https://docs.scipy.org/doc/numpy/reference/generated/numpy.logspace.html  \n",
    "*Corrects arguments can be tricky. They have to be converted to their corresponding exponents for the basis 10 first, use [numpy.log10()](https://numpy.org/doc/1.18/reference/generated/numpy.log10.html) for that.* 😉"
   ]
  },
  {
   "cell_type": "code",
   "execution_count": 4,
   "id": "9a6973a3-9b2b-4b4d-bbb2-b12840690d96",
   "metadata": {},
   "outputs": [
    {
     "data": {
      "text/plain": [
       "array([1.00000000e-02, 1.01982957e-02, 1.04005235e-02, 1.06067614e-02,\n",
       "       1.08170889e-02, 1.10315872e-02, 1.12503388e-02, 1.14734282e-02,\n",
       "       1.17009413e-02, 1.19329660e-02, ..., 1.50842633e+02,\n",
       "       1.53833777e+02, 1.56884235e+02, 1.59995182e+02, 1.63167817e+02,\n",
       "       1.66403365e+02, 1.69703072e+02, 1.73068211e+02, 1.76500079e+02,\n",
       "       1.80000000e+02])"
      ]
     },
     "execution_count": 4,
     "metadata": {},
     "output_type": "execute_result"
    }
   ],
   "source": [
    "theta = numpy.logspace(numpy.log10(1e-2), numpy.log10(180), 500)\n",
    "theta#, theta.shape"
   ]
  },
  {
   "cell_type": "markdown",
   "id": "a99fa031-4a52-4599-8c6d-56f0098d2ac1",
   "metadata": {
    "tags": []
   },
   "source": [
    "## Scattering vector *Q*\n",
    "\n",
    "Create a function *scattering_vector_q* (with `def`) for the scattering vector *Q* in small angle scattering:\n",
    "\n",
    "$Q = {4\\pi \\over \\lambda} \\cdot sin({\\theta\\over2}{2\\pi\\over 360})$\n",
    "\n",
    "With parameters for the angle $\\theta$ (in degrees) and the wave length $\\lambda$ (typically in nm).\n",
    "Use functions from the numpy module preferably.  \n",
    "The wave length can be set to a default value of 0.15406 nm for Copper K-α radiation."
   ]
  },
  {
   "cell_type": "code",
   "execution_count": 5,
   "id": "ee7107a6-25c1-45ac-9e2c-058ef8e5f97c",
   "metadata": {
    "tags": []
   },
   "outputs": [],
   "source": [
    "import numpy\n",
    "def scattering_vector_q(rad, wavelength=0.15406):\n",
    "    return 4*numpy.pi/wavelength * numpy.sin(numpy.radians(rad/2))"
   ]
  },
  {
   "cell_type": "markdown",
   "id": "d000b861-571d-4ec5-b823-158b46fe8b81",
   "metadata": {},
   "source": [
    "### Calculate the scattering vector\n",
    "Use the function defined in the previous exercise to calculate the scattering vector *Q* from the generate angles above and store it in a variable."
   ]
  },
  {
   "cell_type": "code",
   "execution_count": 6,
   "id": "45bccc85-9795-408b-b65b-7545c5af1bdf",
   "metadata": {},
   "outputs": [
    {
     "data": {
      "text/plain": [
       "array([7.11815338e-03, 7.25930330e-03, 7.40325216e-03, 7.55005547e-03,\n",
       "       7.69976982e-03, 7.85245295e-03, 8.00816371e-03, 8.16696216e-03,\n",
       "       8.32890950e-03, 8.49406820e-03, ..., 7.89417741e+01,\n",
       "       7.94507463e+01, 7.99140577e+01, 8.03282321e+01, 8.06896451e+01,\n",
       "       8.09945234e+01, 8.12389446e+01, 8.14188383e+01, 8.15299871e+01,\n",
       "       8.15680294e+01])"
      ]
     },
     "execution_count": 6,
     "metadata": {},
     "output_type": "execute_result"
    }
   ],
   "source": [
    "q = scattering_vector_q(theta)\n",
    "q"
   ]
  },
  {
   "cell_type": "markdown",
   "id": "7db1105c-747c-422c-960f-7f508e9b36ef",
   "metadata": {
    "tags": []
   },
   "source": [
    "## Create a plot of the scattering vector over the angles."
   ]
  },
  {
   "cell_type": "code",
   "execution_count": 7,
   "id": "469b3b78-3ac9-473b-9b11-e9ea5369e86c",
   "metadata": {},
   "outputs": [
    {
     "data": {
      "image/png": "[encoded data removed]",
      "text/plain": [
       "<Figure size 432x288 with 1 Axes>"
      ]
     },
     "metadata": {
      "needs_background": "light"
     },
     "output_type": "display_data"
    }
   ],
   "source": [
    "import matplotlib.pyplot as plt\n",
    "plt.plot(theta, q, color=\"red\")\n",
    "plt.xlabel(r\"angle $\\theta$\")\n",
    "plt.ylabel(r\"scattering vector $Q$\")\n",
    "plt.title(r\"Scattering vector $Q$ over the angles $\\theta$\")\n",
    "plt.grid();"
   ]
  },
  {
   "cell_type": "markdown",
   "id": "8892e1d2-ad4e-479d-af26-8a1adbcf99a3",
   "metadata": {},
   "source": [
    "## Small-angle scattering sphere\n",
    "\n",
    "In small-angle scattering the form factor of a sphere is given by\n",
    "\n",
    "$F(Q, r) = { 3 ~ sin(Qr) - Qr \\cdot cos(Qr) \\over (Qr)^3 }$\n",
    "\n",
    "It describes the scattering amplitude of exact spherical scatterers of radius *r*.\n",
    "The scattering intensity is the amplitude squared. Assuming the contrast is 1 (and thus the scattering length density difference), it can be simplified to:\n",
    "\n",
    "$ I(Q, r) = F(Q, r)^2 $\n",
    "\n",
    "1. Implement a function for calculating the intensity of spheres.\n",
    "2. Use that function and the *Q*-vector from above to calculate the intensity of spheres of 25 nm radius and store it in a variable."
   ]
  },
  {
   "cell_type": "code",
   "execution_count": 9,
   "id": "28a787b5-f041-4139-9cc7-0a1031a2e350",
   "metadata": {},
   "outputs": [
    {
     "data": {
      "text/plain": [
       "array([9.93683651e-01, 9.93524789e-01, 9.93361943e-01, 9.93195014e-01,\n",
       "       9.93023900e-01, 9.92848496e-01, 9.92668695e-01, 9.92484389e-01,\n",
       "       9.92295465e-01, 9.92101809e-01, ..., 6.67437251e-08,\n",
       "       3.56181022e-08, 1.99652509e-07, 7.89607257e-08, 2.06972820e-08,\n",
       "       1.69701846e-07, 6.82223433e-08, 2.18068122e-08, 1.49481784e-07,\n",
       "       4.25884591e-08])"
      ]
     },
     "execution_count": 9,
     "metadata": {},
     "output_type": "execute_result"
    }
   ],
   "source": [
    "def sphere(q, r):\n",
    "    qr = q*r\n",
    "    return (3. * (numpy.sin(qr) - qr * numpy.cos(qr)) / (qr**3.))**2\n",
    "ff = sphere(q, 25.)\n",
    "ff"
   ]
  },
  {
   "cell_type": "markdown",
   "id": "0daab896-1c57-499a-ae03-def8afe11a52",
   "metadata": {},
   "source": [
    "## Plot the sphere form factor\n",
    "\n",
    "Plot the calculated sphere intensity over the scattering vector. Try different values for:\n",
    "1. The number of *Q* values generated at the beginning, how does that change the plot?\n",
    "2. The radius of the spheres, how does it affect the plotted curve?\n",
    "*Hint: For playing with different radius values, it's easier to put the function call for the intensity in the plot command directly, instead of storing it in a variable first which is plotted then.*"
   ]
  },
  {
   "cell_type": "code",
   "execution_count": 10,
   "id": "fd04a998-e6b8-4ea5-936f-89d589ee7423",
   "metadata": {},
   "outputs": [
    {
     "data": {
      "image/png": "[encoded data removed]",
      "text/plain": [
       "<Figure size 432x288 with 1 Axes>"
      ]
     },
     "metadata": {
      "needs_background": "light"
     },
     "output_type": "display_data"
    }
   ],
   "source": [
    "import matplotlib.pyplot as plt\n",
    "plt.plot(q, sphere(q, 25.), color=\"red\")\n",
    "plt.xlabel(\"scattering vector $Q$\")\n",
    "plt.ylabel(\"Intensity $I(Q)$\")\n",
    "plt.title(\"The sphere form factor:\")\n",
    "plt.xscale('log'); plt.yscale('log');\n",
    "plt.grid();"
   ]
  },
  {
   "cell_type": "code",
   "execution_count": null,
   "id": "ad4fc4f6-7cbf-4b32-9f08-bdaa0c50c87e",
   "metadata": {},
   "outputs": [],
   "source": []
  }
 ],
 "metadata": {
  "kernelspec": {
   "display_name": "Python 3 (ipykernel)",
   "language": "python",
   "name": "python3"
  },
  "language_info": {
   "codemirror_mode": {
    "name": "ipython",
    "version": 3
   },
   "file_extension": ".py",
   "mimetype": "text/x-python",
   "name": "python",
   "nbconvert_exporter": "python",
   "pygments_lexer": "ipython3",
   "version": "3.9.7"
  }
 },
 "nbformat": 4,
 "nbformat_minor": 5
}
