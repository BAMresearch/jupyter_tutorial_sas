{
 "cells": [
  {
   "cell_type": "markdown",
   "id": "bfe81af2-1978-4e1a-814d-8e6082c60ad7",
   "metadata": {},
   "source": [
    "<div style=\"text-align: right\">Nov 30<sup>th</sup> 2021</div>\n",
    "\n",
    "# Programming Tutorial, Day 2\n",
    "Part of the *Better With Scattering* Workshop by www.bam.de"
   ]
  },
  {
   "cell_type": "markdown",
   "id": "3eee5517-60aa-47a8-a6c9-2a15d72ad3ad",
   "metadata": {},
   "source": [
    "## Working with files and folders"
   ]
  },
  {
   "cell_type": "markdown",
   "id": "04bbc6bc-a49c-4ab0-8e9b-542c9bd66d01",
   "metadata": {
    "tags": []
   },
   "source": [
    "### Let Python show us the current working directory this script is running from.\n",
    "The output depends on where you stored the notebook file and it will be different for everyone."
   ]
  },
  {
   "cell_type": "code",
   "execution_count": 1,
   "id": "543bc76d-bd3a-4daa-ad05-f1edb2cdd6f3",
   "metadata": {},
   "outputs": [
    {
     "data": {
      "text/plain": [
       "PosixPath('/Users/ingo/code/jupyter_tutorial_sas')"
      ]
     },
     "execution_count": 1,
     "metadata": {},
     "output_type": "execute_result"
    }
   ],
   "source": [
    "from pathlib import Path\n",
    "cwd = Path().absolute() # get current working directory\n",
    "cwd"
   ]
  },
  {
   "cell_type": "code",
   "execution_count": 2,
   "id": "a0b27cfa-ad6a-4038-90eb-8699b2889862",
   "metadata": {},
   "outputs": [
    {
     "data": {
      "text/plain": [
       "(PosixPath('/Users/ingo/code'), 'jupyter_tutorial_sas')"
      ]
     },
     "execution_count": 2,
     "metadata": {},
     "output_type": "execute_result"
    }
   ],
   "source": [
    "cwd.parent, cwd.name"
   ]
  },
  {
   "cell_type": "markdown",
   "id": "962addbb-0eba-45e8-bcbb-c926eb5ee190",
   "metadata": {},
   "source": [
    "### List the contents (files and folders) of the current working directory.\n",
    "If you put the notebook in an empty folder, this notebook file should be listed only."
   ]
  },
  {
   "cell_type": "code",
   "execution_count": 3,
   "id": "b0eec377-7b33-4101-8ad5-122ecfac2917",
   "metadata": {},
   "outputs": [
    {
     "data": {
      "text/plain": [
       "[PosixPath('/Users/ingo/code/jupyter_tutorial_sas/.DS_Store'),\n",
       " PosixPath('/Users/ingo/code/jupyter_tutorial_sas/LICENSE'),\n",
       " PosixPath('/Users/ingo/code/jupyter_tutorial_sas/day1 (live colab session).ipynb'),\n",
       " PosixPath('/Users/ingo/code/jupyter_tutorial_sas/day2.ipynb'),\n",
       " PosixPath('/Users/ingo/code/jupyter_tutorial_sas/Programming Tutorial.pptx'),\n",
       " PosixPath('/Users/ingo/code/jupyter_tutorial_sas/day2 (live colab session).ipynb'),\n",
       " PosixPath('/Users/ingo/code/jupyter_tutorial_sas/.gitignore'),\n",
       " PosixPath('/Users/ingo/code/jupyter_tutorial_sas/.ipynb_checkpoints'),\n",
       " PosixPath('/Users/ingo/code/jupyter_tutorial_sas/day3.ipynb'),\n",
       " PosixPath('/Users/ingo/code/jupyter_tutorial_sas/.git'),\n",
       " PosixPath('/Users/ingo/code/jupyter_tutorial_sas/day1.ipynb'),\n",
       " PosixPath('/Users/ingo/code/jupyter_tutorial_sas/data')]"
      ]
     },
     "execution_count": 3,
     "metadata": {},
     "output_type": "execute_result"
    }
   ],
   "source": [
    "list(cwd.iterdir()) # list contents of current directory"
   ]
  },
  {
   "cell_type": "code",
   "execution_count": 4,
   "id": "8793dd45-1463-40d4-84af-6dff05b54b95",
   "metadata": {},
   "outputs": [
    {
     "data": {
      "text/plain": [
       "['.DS_Store',\n",
       " 'LICENSE',\n",
       " 'day1 (live colab session).ipynb',\n",
       " 'day2.ipynb',\n",
       " 'Programming Tutorial.pptx',\n",
       " 'day2 (live colab session).ipynb',\n",
       " '.gitignore',\n",
       " '.ipynb_checkpoints',\n",
       " 'day3.ipynb',\n",
       " '.git',\n",
       " 'day1.ipynb',\n",
       " 'data']"
      ]
     },
     "execution_count": 4,
     "metadata": {},
     "output_type": "execute_result"
    }
   ],
   "source": [
    "[fn.name for fn in cwd.iterdir()]"
   ]
  },
  {
   "cell_type": "markdown",
   "id": "0d31b8ef-a2d9-4890-ab69-0298fb315d9f",
   "metadata": {},
   "source": [
    "## Filtering files\n",
    "For automated file processing ;)"
   ]
  },
  {
   "cell_type": "code",
   "execution_count": 5,
   "id": "5525f359-6134-4f1f-b408-521a86328244",
   "metadata": {},
   "outputs": [
    {
     "data": {
      "text/plain": [
       "['Programming Tutorial.pptx']"
      ]
     },
     "execution_count": 5,
     "metadata": {},
     "output_type": "execute_result"
    }
   ],
   "source": [
    "[fn.name for fn in cwd.iterdir() if fn.name.endswith(\".pptx\")]"
   ]
  },
  {
   "cell_type": "markdown",
   "id": "b75a2231-f2aa-4a9e-9b38-5f9700d38f98",
   "metadata": {},
   "source": [
    "### Loading data"
   ]
  },
  {
   "cell_type": "code",
   "execution_count": 6,
   "id": "2d709178-ad63-433b-9dfd-8225a20b5868",
   "metadata": {
    "tags": []
   },
   "outputs": [
    {
     "data": {
      "text/plain": [
       "PosixPath('data/Ag_N008.dat')"
      ]
     },
     "execution_count": 6,
     "metadata": {},
     "output_type": "execute_result"
    }
   ],
   "source": [
    "fnData = [fn for fn in Path(\"data\").iterdir() if fn.name.endswith(\".dat\")]\n",
    "fnData[0]"
   ]
  },
  {
   "cell_type": "code",
   "execution_count": 7,
   "id": "64d6f1f8-66e5-4047-93d1-02ad0605bc49",
   "metadata": {
    "tags": []
   },
   "outputs": [
    {
     "data": {
      "text/html": [
       "<div>\n",
       "<style scoped>\n",
       "    .dataframe tbody tr th:only-of-type {\n",
       "        vertical-align: middle;\n",
       "    }\n",
       "\n",
       "    .dataframe tbody tr th {\n",
       "        vertical-align: top;\n",
       "    }\n",
       "\n",
       "    .dataframe thead th {\n",
       "        text-align: right;\n",
       "    }\n",
       "</style>\n",
       "<table border=\"1\" class=\"dataframe\">\n",
       "  <thead>\n",
       "    <tr style=\"text-align: right;\">\n",
       "      <th></th>\n",
       "      <th>q</th>\n",
       "      <th>I</th>\n",
       "      <th>uI</th>\n",
       "    </tr>\n",
       "  </thead>\n",
       "  <tbody>\n",
       "    <tr>\n",
       "      <th>0</th>\n",
       "      <td>0.030259</td>\n",
       "      <td>4769.301045</td>\n",
       "      <td>1655.363275</td>\n",
       "    </tr>\n",
       "    <tr>\n",
       "      <th>1</th>\n",
       "      <td>0.030719</td>\n",
       "      <td>5346.031551</td>\n",
       "      <td>2218.324041</td>\n",
       "    </tr>\n",
       "    <tr>\n",
       "      <th>2</th>\n",
       "      <td>0.031096</td>\n",
       "      <td>6387.856371</td>\n",
       "      <td>1534.356131</td>\n",
       "    </tr>\n",
       "    <tr>\n",
       "      <th>3</th>\n",
       "      <td>0.031611</td>\n",
       "      <td>2986.364914</td>\n",
       "      <td>1984.290104</td>\n",
       "    </tr>\n",
       "    <tr>\n",
       "      <th>4</th>\n",
       "      <td>0.032103</td>\n",
       "      <td>5634.075856</td>\n",
       "      <td>1367.733213</td>\n",
       "    </tr>\n",
       "    <tr>\n",
       "      <th>...</th>\n",
       "      <td>...</td>\n",
       "      <td>...</td>\n",
       "      <td>...</td>\n",
       "    </tr>\n",
       "    <tr>\n",
       "      <th>530</th>\n",
       "      <td>14.165907</td>\n",
       "      <td>0.036509</td>\n",
       "      <td>0.024799</td>\n",
       "    </tr>\n",
       "    <tr>\n",
       "      <th>531</th>\n",
       "      <td>14.334260</td>\n",
       "      <td>0.019789</td>\n",
       "      <td>0.024856</td>\n",
       "    </tr>\n",
       "    <tr>\n",
       "      <th>532</th>\n",
       "      <td>14.504613</td>\n",
       "      <td>0.036952</td>\n",
       "      <td>0.024934</td>\n",
       "    </tr>\n",
       "    <tr>\n",
       "      <th>533</th>\n",
       "      <td>14.676991</td>\n",
       "      <td>0.053573</td>\n",
       "      <td>0.025039</td>\n",
       "    </tr>\n",
       "    <tr>\n",
       "      <th>534</th>\n",
       "      <td>14.851418</td>\n",
       "      <td>0.008345</td>\n",
       "      <td>0.025058</td>\n",
       "    </tr>\n",
       "  </tbody>\n",
       "</table>\n",
       "<p>535 rows × 3 columns</p>\n",
       "</div>"
      ],
      "text/plain": [
       "             q            I           uI\n",
       "0     0.030259  4769.301045  1655.363275\n",
       "1     0.030719  5346.031551  2218.324041\n",
       "2     0.031096  6387.856371  1534.356131\n",
       "3     0.031611  2986.364914  1984.290104\n",
       "4     0.032103  5634.075856  1367.733213\n",
       "..         ...          ...          ...\n",
       "530  14.165907     0.036509     0.024799\n",
       "531  14.334260     0.019789     0.024856\n",
       "532  14.504613     0.036952     0.024934\n",
       "533  14.676991     0.053573     0.025039\n",
       "534  14.851418     0.008345     0.025058\n",
       "\n",
       "[535 rows x 3 columns]"
      ]
     },
     "execution_count": 7,
     "metadata": {},
     "output_type": "execute_result"
    }
   ],
   "source": [
    "import pandas\n",
    "dataframe = pandas.read_csv(fnData[0], sep=r'\\s+', names=(\"q\", \"I\", \"uI\"))\n",
    "dataframe"
   ]
  },
  {
   "cell_type": "code",
   "execution_count": 8,
   "id": "fb9102bd-8eb8-4c62-89f5-b76ceed45514",
   "metadata": {},
   "outputs": [
    {
     "data": {
      "text/plain": [
       "0      4769.301045\n",
       "1      5346.031551\n",
       "2      6387.856371\n",
       "3      2986.364914\n",
       "4      5634.075856\n",
       "          ...     \n",
       "530       0.036509\n",
       "531       0.019789\n",
       "532       0.036952\n",
       "533       0.053573\n",
       "534       0.008345\n",
       "Name: I, Length: 535, dtype: float64"
      ]
     },
     "execution_count": 8,
     "metadata": {},
     "output_type": "execute_result"
    }
   ],
   "source": [
    "dataframe.I"
   ]
  },
  {
   "cell_type": "code",
   "execution_count": 9,
   "id": "fb634ea9-479f-4483-8adf-8ef7f222e609",
   "metadata": {},
   "outputs": [
    {
     "data": {
      "image/png": "[encoded data removed]",
      "text/plain": [
       "<Figure size 432x288 with 1 Axes>"
      ]
     },
     "metadata": {
      "needs_background": "light"
     },
     "output_type": "display_data"
    }
   ],
   "source": [
    "dataframe.plot(\"q\", \"I\", yerr=\"uI\", loglog=True, ecolor=\"gray\", grid=True, label=fnData[0].name);"
   ]
  }
 ],
 "metadata": {
  "kernelspec": {
   "display_name": "Python 3 (ipykernel)",
   "language": "python",
   "name": "python3"
  },
  "language_info": {
   "codemirror_mode": {
    "name": "ipython",
    "version": 3
   },
   "file_extension": ".py",
   "mimetype": "text/x-python",
   "name": "python",
   "nbconvert_exporter": "python",
   "pygments_lexer": "ipython3",
   "version": "3.9.7"
  }
 },
 "nbformat": 4,
 "nbformat_minor": 5
}
