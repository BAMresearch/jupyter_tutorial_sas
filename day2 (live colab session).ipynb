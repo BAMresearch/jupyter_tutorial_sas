{
  "nbformat": 4,
  "nbformat_minor": 0,
  "metadata": {
    "colab": {
      "name": "Python for SAS - day2.ipynb",
      "provenance": []
    },
    "kernelspec": {
      "name": "python3",
      "display_name": "Python 3"
    },
    "language_info": {
      "name": "python"
    }
  },
  "cells": [
    {
      "cell_type": "markdown",
      "metadata": {
        "id": "R02rYM6EcICp"
      },
      "source": [
        "# Programming Tutorial, Day 2\n",
        "Part of the *Better With Scattering* Workshop by www.bam.de"
      ]
    },
    {
      "cell_type": "markdown",
      "metadata": {
        "id": "S3ci9Q-Am6ln"
      },
      "source": [
        "## Working with files and folders"
      ]
    },
    {
      "cell_type": "markdown",
      "metadata": {
        "id": "8uaS1DOdmx80"
      },
      "source": [
        "### Let Python show us the current working directory this script is running from.\n",
        "The output depends on where you stored the notebook file and it will be different for everyone."
      ]
    },
    {
      "cell_type": "markdown",
      "metadata": {
        "id": "iK7RMt1idAmL"
      },
      "source": [
        "### Old Style File and Folders"
      ]
    },
    {
      "cell_type": "code",
      "metadata": {
        "colab": {
          "base_uri": "https://localhost:8080/",
          "height": 36
        },
        "id": "wZJdf5NAcIyn",
        "outputId": "c20f69aa-d1e5-4a28-d67d-841d65aab046"
      },
      "source": [
        "import os\n",
        "# show the current working directory\n",
        "os.getcwd()"
      ],
      "execution_count": 62,
      "outputs": [
        {
          "output_type": "execute_result",
          "data": {
            "application/vnd.google.colaboratory.intrinsic+json": {
              "type": "string"
            },
            "text/plain": [
              "'/content'"
            ]
          },
          "metadata": {},
          "execution_count": 62
        }
      ]
    },
    {
      "cell_type": "code",
      "metadata": {
        "colab": {
          "base_uri": "https://localhost:8080/",
          "height": 36
        },
        "id": "ydyv88eFcTPx",
        "outputId": "f6f6c65d-176c-4c1b-b00f-6d8712613830"
      },
      "source": [
        "# list the contents of the *sample_data* subdirectory\n",
        "os.path.join('sample_data', os.listdir('sample_data')[1])"
      ],
      "execution_count": 63,
      "outputs": [
        {
          "output_type": "execute_result",
          "data": {
            "application/vnd.google.colaboratory.intrinsic+json": {
              "type": "string"
            },
            "text/plain": [
              "'sample_data/README.md'"
            ]
          },
          "metadata": {},
          "execution_count": 63
        }
      ]
    },
    {
      "cell_type": "markdown",
      "metadata": {
        "id": "95hdN1DWnAnk"
      },
      "source": [
        "### Newer style for files and folders\n",
        "Working with *Path* objects."
      ]
    },
    {
      "cell_type": "code",
      "metadata": {
        "colab": {
          "base_uri": "https://localhost:8080/"
        },
        "id": "zFMbfinqci-Y",
        "outputId": "7bb3eea4-3595-4a8c-dbb9-e2efc41ee7e5"
      },
      "source": [
        "from pathlib import Path\n",
        "cwd = Path().absolute()\n",
        "cwd"
      ],
      "execution_count": 55,
      "outputs": [
        {
          "output_type": "execute_result",
          "data": {
            "text/plain": [
              "PosixPath('/content')"
            ]
          },
          "metadata": {},
          "execution_count": 55
        }
      ]
    },
    {
      "cell_type": "code",
      "metadata": {
        "colab": {
          "base_uri": "https://localhost:8080/"
        },
        "id": "4kKG7CJLeMSg",
        "outputId": "7d57f505-301d-4835-df85-12864cc091fc"
      },
      "source": [
        "cwd/'sample_data'"
      ],
      "execution_count": 56,
      "outputs": [
        {
          "output_type": "execute_result",
          "data": {
            "text/plain": [
              "PosixPath('/content/sample_data')"
            ]
          },
          "metadata": {},
          "execution_count": 56
        }
      ]
    },
    {
      "cell_type": "markdown",
      "metadata": {
        "id": "HnpW_8FznSax"
      },
      "source": [
        "#### List the contents of the *sample_data* directory."
      ]
    },
    {
      "cell_type": "code",
      "metadata": {
        "colab": {
          "base_uri": "https://localhost:8080/"
        },
        "id": "kcKNBFBkdKPj",
        "outputId": "a0b6af52-4d3a-48c6-8d4c-7050a4f3d20c"
      },
      "source": [
        "[fn for fn in (cwd/'sample_data').iterdir()\n",
        "         if fn.name.endswith(\".csv\")]"
      ],
      "execution_count": 57,
      "outputs": [
        {
          "output_type": "execute_result",
          "data": {
            "text/plain": [
              "[PosixPath('/content/sample_data/california_housing_train.csv'),\n",
              " PosixPath('/content/sample_data/mnist_train_small.csv'),\n",
              " PosixPath('/content/sample_data/mnist_test.csv'),\n",
              " PosixPath('/content/sample_data/california_housing_test.csv')]"
            ]
          },
          "metadata": {},
          "execution_count": 57
        }
      ]
    },
    {
      "cell_type": "markdown",
      "metadata": {
        "id": "nB743a_HoF5w"
      },
      "source": [
        "### Download the sample measurement data file"
      ]
    },
    {
      "cell_type": "code",
      "metadata": {
        "id": "a76i7PqfdqNM"
      },
      "source": [
        "# Downloading something to this working environment\n",
        "#!wget https://github.com/BAMresearch/jupyter_tutorial_sas/raw/main/data/Ag_N008.dat"
      ],
      "execution_count": 61,
      "outputs": []
    },
    {
      "cell_type": "code",
      "metadata": {
        "colab": {
          "base_uri": "https://localhost:8080/"
        },
        "id": "SeamRcyvfbLK",
        "outputId": "92e9e907-5c1a-410e-f299-9128cdb0fe95"
      },
      "source": [
        "# Test if the file exists\n",
        "fn = \"Ag_N008.dat\"\n",
        "Path(fn).is_file()"
      ],
      "execution_count": 64,
      "outputs": [
        {
          "output_type": "execute_result",
          "data": {
            "text/plain": [
              "True"
            ]
          },
          "metadata": {},
          "execution_count": 64
        }
      ]
    },
    {
      "cell_type": "code",
      "metadata": {
        "colab": {
          "base_uri": "https://localhost:8080/"
        },
        "id": "5BfYpRhUf3Q8",
        "outputId": "0f7b2216-b883-4069-84cf-c2f35cd19044"
      },
      "source": [
        "# Filter out the data file from the listing of the current working directory\n",
        "fnData = [fn for fn in (cwd).iterdir()\n",
        "             if fn.name.endswith(\".dat\")][0]\n",
        "fnData"
      ],
      "execution_count": 65,
      "outputs": [
        {
          "output_type": "execute_result",
          "data": {
            "text/plain": [
              "PosixPath('/content/Ag_N008.dat')"
            ]
          },
          "metadata": {},
          "execution_count": 65
        }
      ]
    },
    {
      "cell_type": "markdown",
      "metadata": {
        "id": "H2MhxEQygMOT"
      },
      "source": [
        "## Loading some data\n",
        "Introduction *DataFrame* from *pandas* module"
      ]
    },
    {
      "cell_type": "code",
      "metadata": {
        "colab": {
          "base_uri": "https://localhost:8080/",
          "height": 423
        },
        "id": "G683cuPcf9Ld",
        "outputId": "dde38eb2-5f1e-46fa-b54e-01e1aea4c342"
      },
      "source": [
        "import pandas\n",
        "dataframe = pandas.read_csv(fnData, sep='\\s+', names=(\"q\", \"I\", \"uI\"))\n",
        "dataframe"
      ],
      "execution_count": 37,
      "outputs": [
        {
          "output_type": "execute_result",
          "data": {
            "text/html": [
              "<div>\n",
              "<style scoped>\n",
              "    .dataframe tbody tr th:only-of-type {\n",
              "        vertical-align: middle;\n",
              "    }\n",
              "\n",
              "    .dataframe tbody tr th {\n",
              "        vertical-align: top;\n",
              "    }\n",
              "\n",
              "    .dataframe thead th {\n",
              "        text-align: right;\n",
              "    }\n",
              "</style>\n",
              "<table border=\"1\" class=\"dataframe\">\n",
              "  <thead>\n",
              "    <tr style=\"text-align: right;\">\n",
              "      <th></th>\n",
              "      <th>q</th>\n",
              "      <th>I</th>\n",
              "      <th>uI</th>\n",
              "    </tr>\n",
              "  </thead>\n",
              "  <tbody>\n",
              "    <tr>\n",
              "      <th>0</th>\n",
              "      <td>0.030259</td>\n",
              "      <td>4769.301045</td>\n",
              "      <td>1655.363275</td>\n",
              "    </tr>\n",
              "    <tr>\n",
              "      <th>1</th>\n",
              "      <td>0.030719</td>\n",
              "      <td>5346.031551</td>\n",
              "      <td>2218.324041</td>\n",
              "    </tr>\n",
              "    <tr>\n",
              "      <th>2</th>\n",
              "      <td>0.031096</td>\n",
              "      <td>6387.856371</td>\n",
              "      <td>1534.356131</td>\n",
              "    </tr>\n",
              "    <tr>\n",
              "      <th>3</th>\n",
              "      <td>0.031611</td>\n",
              "      <td>2986.364914</td>\n",
              "      <td>1984.290104</td>\n",
              "    </tr>\n",
              "    <tr>\n",
              "      <th>4</th>\n",
              "      <td>0.032103</td>\n",
              "      <td>5634.075856</td>\n",
              "      <td>1367.733213</td>\n",
              "    </tr>\n",
              "    <tr>\n",
              "      <th>...</th>\n",
              "      <td>...</td>\n",
              "      <td>...</td>\n",
              "      <td>...</td>\n",
              "    </tr>\n",
              "    <tr>\n",
              "      <th>530</th>\n",
              "      <td>14.165907</td>\n",
              "      <td>0.036509</td>\n",
              "      <td>0.024799</td>\n",
              "    </tr>\n",
              "    <tr>\n",
              "      <th>531</th>\n",
              "      <td>14.334260</td>\n",
              "      <td>0.019789</td>\n",
              "      <td>0.024856</td>\n",
              "    </tr>\n",
              "    <tr>\n",
              "      <th>532</th>\n",
              "      <td>14.504613</td>\n",
              "      <td>0.036952</td>\n",
              "      <td>0.024934</td>\n",
              "    </tr>\n",
              "    <tr>\n",
              "      <th>533</th>\n",
              "      <td>14.676991</td>\n",
              "      <td>0.053573</td>\n",
              "      <td>0.025039</td>\n",
              "    </tr>\n",
              "    <tr>\n",
              "      <th>534</th>\n",
              "      <td>14.851418</td>\n",
              "      <td>0.008345</td>\n",
              "      <td>0.025058</td>\n",
              "    </tr>\n",
              "  </tbody>\n",
              "</table>\n",
              "<p>535 rows × 3 columns</p>\n",
              "</div>"
            ],
            "text/plain": [
              "             q            I           uI\n",
              "0     0.030259  4769.301045  1655.363275\n",
              "1     0.030719  5346.031551  2218.324041\n",
              "2     0.031096  6387.856371  1534.356131\n",
              "3     0.031611  2986.364914  1984.290104\n",
              "4     0.032103  5634.075856  1367.733213\n",
              "..         ...          ...          ...\n",
              "530  14.165907     0.036509     0.024799\n",
              "531  14.334260     0.019789     0.024856\n",
              "532  14.504613     0.036952     0.024934\n",
              "533  14.676991     0.053573     0.025039\n",
              "534  14.851418     0.008345     0.025058\n",
              "\n",
              "[535 rows x 3 columns]"
            ]
          },
          "metadata": {},
          "execution_count": 37
        }
      ]
    },
    {
      "cell_type": "code",
      "metadata": {
        "colab": {
          "base_uri": "https://localhost:8080/"
        },
        "id": "nURjnVzOiYiy",
        "outputId": "a33437f9-d2d3-485a-cb1d-7b8fab44ac50"
      },
      "source": [
        "dataframe.I"
      ],
      "execution_count": 39,
      "outputs": [
        {
          "output_type": "execute_result",
          "data": {
            "text/plain": [
              "0      4769.301045\n",
              "1      5346.031551\n",
              "2      6387.856371\n",
              "3      2986.364914\n",
              "4      5634.075856\n",
              "          ...     \n",
              "530       0.036509\n",
              "531       0.019789\n",
              "532       0.036952\n",
              "533       0.053573\n",
              "534       0.008345\n",
              "Name: I, Length: 535, dtype: float64"
            ]
          },
          "metadata": {},
          "execution_count": 39
        }
      ]
    },
    {
      "cell_type": "code",
      "metadata": {
        "colab": {
          "base_uri": "https://localhost:8080/",
          "height": 271
        },
        "id": "Qn_vu6IIjihz",
        "outputId": "435b538d-c330-4cdb-8116-ac59d146a455"
      },
      "source": [
        "import matplotlib.pyplot as plt\n",
        "plt.plot(dataframe.q, dataframe.I, color='red')\n",
        "plt.xscale('log')\n",
        "plt.yscale('log')\n",
        "plt.grid()"
      ],
      "execution_count": 44,
      "outputs": [
        {
          "output_type": "display_data",
          "data": {
            "image/png": "[encoded data removed]",
            "text/plain": [
              "<Figure size 432x288 with 1 Axes>"
            ]
          },
          "metadata": {
            "needs_background": "light"
          }
        }
      ]
    },
    {
      "cell_type": "code",
      "metadata": {
        "colab": {
          "base_uri": "https://localhost:8080/",
          "height": 283
        },
        "id": "as8Yp7Xij208",
        "outputId": "536e72ca-4b0c-49e7-b2ec-b26d088cef9b"
      },
      "source": [
        "dataframe.plot(\"q\", \"I\", yerr=\"uI\", loglog=True,\n",
        "               ecolor=\"gray\", grid=True, label=fnData.name);"
      ],
      "execution_count": 52,
      "outputs": [
        {
          "output_type": "display_data",
          "data": {
            "image/png": "[encoded data removed]",
            "text/plain": [
              "<Figure size 432x288 with 1 Axes>"
            ]
          },
          "metadata": {
            "needs_background": "light"
          }
        }
      ]
    }
  ]
}